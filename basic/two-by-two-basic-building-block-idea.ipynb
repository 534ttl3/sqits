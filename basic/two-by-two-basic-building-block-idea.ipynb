{
 "cells": [
  {
   "cell_type": "code",
   "execution_count": 1,
   "metadata": {},
   "outputs": [
    {
     "data": {
      "text/html": [
       "<style>.container { width:90% !important; }</style>"
      ],
      "text/plain": [
       "<IPython.core.display.HTML object>"
      ]
     },
     "metadata": {},
     "output_type": "display_data"
    }
   ],
   "source": [
    "# jupyter settings\n",
    "from IPython.core.display import display, HTML\n",
    "display(HTML(\"<style>.container { width:90% !important; }</style>\"))"
   ]
  },
  {
   "attachments": {
    "image.png": {
     "image/png": "[encoded data removed]"
    }
   },
   "cell_type": "markdown",
   "metadata": {},
   "source": [
    "# Surface code: 2x2 cell as a basic building block?\n",
    "2x2 unit cell\n",
    "\n",
    "Only the readout stage, no encoding stage:\n",
    "\n",
    "![image.png](attachment:image.png)\n",
    "\n",
    "red: X Stabilizer measurement\n",
    "\n",
    "blue: Z Stabilizer measurement\n",
    "\n",
    "image source: Review paper from J. Roffe: https://arxiv.org/pdf/1907.11157.pdf#page=17"
   ]
  },
  {
   "cell_type": "code",
   "execution_count": 4,
   "metadata": {
    "scrolled": true
   },
   "outputs": [
    {
     "ename": "ImportError",
     "evalue": "No module named qiskit",
     "output_type": "error",
     "traceback": [
      "\u001b[0;31m---------------------------------------------------------------------------\u001b[0m",
      "\u001b[0;31mImportError\u001b[0m                               Traceback (most recent call last)",
      "\u001b[0;32m<ipython-input-4-53595fe6ef72>\u001b[0m in \u001b[0;36m<module>\u001b[0;34m()\u001b[0m\n\u001b[1;32m      1\u001b[0m \u001b[0;32mimport\u001b[0m \u001b[0mnumpy\u001b[0m \u001b[0;32mas\u001b[0m \u001b[0mnp\u001b[0m\u001b[0;34m\u001b[0m\u001b[0m\n\u001b[0;32m----> 2\u001b[0;31m \u001b[0;32mfrom\u001b[0m \u001b[0mqiskit\u001b[0m \u001b[0;32mimport\u001b[0m \u001b[0;34m*\u001b[0m\u001b[0;34m\u001b[0m\u001b[0m\n\u001b[0m\u001b[1;32m      3\u001b[0m \u001b[0;34m\u001b[0m\u001b[0m\n\u001b[1;32m      4\u001b[0m \u001b[0mget_ipython\u001b[0m\u001b[0;34m(\u001b[0m\u001b[0;34m)\u001b[0m\u001b[0;34m.\u001b[0m\u001b[0mmagic\u001b[0m\u001b[0;34m(\u001b[0m\u001b[0;34mu'matplotlib inline'\u001b[0m\u001b[0;34m)\u001b[0m\u001b[0;34m\u001b[0m\u001b[0m\n\u001b[1;32m      5\u001b[0m \u001b[0;34m\u001b[0m\u001b[0m\n",
      "\u001b[0;31mImportError\u001b[0m: No module named qiskit"
     ]
    }
   ],
   "source": [
    "import numpy as np\n",
    "from qiskit import *\n",
    "\n",
    "%matplotlib inline\n",
    "\n",
    "class MinimalCircuit: \n",
    "    # TODO: make a class to instantiate 2x2 basic building block circuits, copy them, connect them up, ...\n",
    "    def __init__(self, x_counter, y_counter, name=None):\n",
    "        if not name: \n",
    "            # create a name for the new quantum register \n",
    "            # and the new classical register\n",
    "            self.qc_name = \"mc(\" + str(x_counter) + \",\" + str(y_counter) + \")\"\n",
    "            self.qr_name = \"qr.\" + self.qc_name\n",
    "            self.cr_name = \"cr.\" + self.qc_name\n",
    "        \n",
    "        # Create a new Quantum Circuit\n",
    "        self.qr = QuantumRegister(size=4, name=self.qr_name)\n",
    "        self.cr = ClassicalRegister(size=2, name=self.cr_name)\n",
    "        self.qc = QuantumCircuit(self.qr, self.cr, name=self.qc_name)\n",
    "    \n",
    "        \n",
    "        # --- measure phase-flip detecting stabilizers: X's ---\n",
    "        # measure X_D1 X_D2 -> A1\n",
    "        self.qc.barrier()\n",
    "        self.qc.h(self.qr[2])\n",
    "        # A1, D1\n",
    "        self.qc.cx(self.qr[2],self.qr[0])\n",
    "        # A1, D2\n",
    "        self.qc.cx(self.qr[2],self.qr[1])\n",
    "        self.qc.h(self.qr[2])\n",
    "        self.qc.measure(self.qr[2],self.cr[0])\n",
    "        \n",
    "        # --- measure bit-flip detecting stabilizers: Z's ---\n",
    "        # measure Z_D1 Z_D3 Z_D4 -> A2\n",
    "\n",
    "        self.qc.barrier()\n",
    "        self.qc.h(self.qr[3])\n",
    "        self.qc.cz(self.qr[3],self.qr[0])\n",
    "        self.qc.cz(self.qr[3],self.qr[1])\n",
    "        self.qc.h(self.qr[3])\n",
    "        self.qc.measure(self.qr[3],self.cr[0])\n",
    "        \n",
    "c = MinimalCircuit(0,0)\n",
    "# drawing the circuit\n",
    "c.qc.draw(fold=90)\n",
    "\n",
    "c2 = MinimalCircuit(0,1)\n",
    "c2.qc.draw(fold=90)\n"
   ]
  },
  {
   "cell_type": "code",
   "execution_count": 3,
   "metadata": {},
   "outputs": [
    {
     "ename": "NameError",
     "evalue": "name 'c' is not defined",
     "output_type": "error",
     "traceback": [
      "\u001b[0;31m---------------------------------------------------------------------------\u001b[0m",
      "\u001b[0;31mNameError\u001b[0m                                 Traceback (most recent call last)",
      "\u001b[0;32m<ipython-input-3-a61eeae4ab8e>\u001b[0m in \u001b[0;36m<module>\u001b[0;34m()\u001b[0m\n\u001b[1;32m      3\u001b[0m \u001b[0;34m\u001b[0m\u001b[0m\n\u001b[1;32m      4\u001b[0m \u001b[0;31m# test: simple addition of circuits\u001b[0m\u001b[0;34m\u001b[0m\u001b[0;34m\u001b[0m\u001b[0m\n\u001b[0;32m----> 5\u001b[0;31m \u001b[0mnew_qc\u001b[0m \u001b[0;34m=\u001b[0m \u001b[0mc\u001b[0m\u001b[0;34m.\u001b[0m\u001b[0mqc\u001b[0m \u001b[0;34m+\u001b[0m \u001b[0mc2\u001b[0m\u001b[0;34m.\u001b[0m\u001b[0mqc\u001b[0m\u001b[0;34m\u001b[0m\u001b[0m\n\u001b[0m\u001b[1;32m      6\u001b[0m \u001b[0;34m\u001b[0m\u001b[0m\n\u001b[1;32m      7\u001b[0m \u001b[0;31m# c.qr[0] = c2.qr[1]  # how to set two qubits from two different circuits eqal? This is too naive.\u001b[0m\u001b[0;34m\u001b[0m\u001b[0;34m\u001b[0m\u001b[0m\n",
      "\u001b[0;31mNameError\u001b[0m: name 'c' is not defined"
     ]
    }
   ],
   "source": [
    "# combine multiple MinimalCircuits\n",
    "# one could try to write a for loop connecting up the 2x2 blocks\n",
    "\n",
    "# test: simple addition of circuits\n",
    "new_qc = c.qc + c2.qc\n",
    "\n",
    "# c.qr[0] = c2.qr[1]  # how to set two qubits from two different circuits eqal? This is too naive.\n",
    "\n",
    "new_qc.draw(fold=90)"
   ]
  },
  {
   "cell_type": "code",
   "execution_count": null,
   "metadata": {},
   "outputs": [],
   "source": []
  }
 ],
 "metadata": {
  "kernelspec": {
   "display_name": "Python 3",
   "language": "python",
   "name": "python3"
  },
  "language_info": {
   "codemirror_mode": {
    "name": "ipython",
    "version": 2
   },
   "file_extension": ".py",
   "mimetype": "text/x-python",
   "name": "python",
   "nbconvert_exporter": "python",
   "pygments_lexer": "ipython2",
   "version": "2.7.17"
  }
 },
 "nbformat": 4,
 "nbformat_minor": 2
}
